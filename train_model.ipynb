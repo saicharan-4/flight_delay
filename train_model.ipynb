# 1. Import necessary libraries
import pandas as pd
from sklearn.model_selection import train_test_split
from sklearn.ensemble import RandomForestClassifier
from sklearn.preprocessing import LabelEncoder
from sklearn.metrics import accuracy_score
import joblib

# 2. Load dataset
df = pd.read_csv("flight_data_2018_2024.csv")
df.head()
# 3. Basic preprocessing
df.dropna(inplace=True)

# Creating binary target: 1 if delayed more than 15 minutes, else 0
df['Delayed'] = df['ArrivalDelay'].apply(lambda x: 1 if x > 15 else 0)
# 4. Encode categorical features (adjust these column names as needed)
le = LabelEncoder()

df['Airline'] = le.fit_transform(df['Airline'])
df['Origin'] = le.fit_transform(df['Origin'])
df['Destination'] = le.fit_transform(df['Destination'])
# 5. Select features and target
X = df[['Airline', 'Origin', 'Destination', 'ScheduledDepTime']]
y = df['Delayed']
# 6. Train/test split
X_train, X_test, y_train, y_test = train_test_split(X, y, test_size=0.2, random_state=42)
# 7. Train model
model = RandomForestClassifier()
model.fit(X_train, y_train)
# 8. Evaluate model
y_pred = model.predict(X_test)
print("Model accuracy:", accuracy_score(y_test, y_pred))
# 9. Save model to file
joblib.dump(model, "flight_model.pkl")
print("Model saved as flight_model.pkl")
